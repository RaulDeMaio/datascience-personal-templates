{
 "cells": [
  {
   "cell_type": "code",
   "execution_count": null,
   "id": "8dde44d7",
   "metadata": {},
   "outputs": [],
   "source": [
    "import sys\n",
    "import os\n",
    "sys.path.append(os.path.abspath(\"../src\"))\n",
    "\n",
    "from logging_utils import setup_logger\n",
    "log = setup_logger(\"notebook_logger\")\n",
    "log.info(\"🧪 Starting notebook\")"
   ]
  }
 ],
 "metadata": {
  "language_info": {
   "name": "python"
  }
 },
 "nbformat": 4,
 "nbformat_minor": 5
}
